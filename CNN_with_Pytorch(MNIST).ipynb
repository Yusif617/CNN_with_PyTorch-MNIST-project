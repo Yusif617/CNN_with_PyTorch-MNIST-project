{
  "nbformat": 4,
  "nbformat_minor": 0,
  "metadata": {
    "colab": {
      "provenance": [],
      "gpuType": "T4"
    },
    "kernelspec": {
      "name": "python3",
      "display_name": "Python 3"
    },
    "language_info": {
      "name": "python"
    },
    "accelerator": "GPU"
  },
  "cells": [
    {
      "cell_type": "code",
      "source": [
        "import numpy as np\n",
        "from torchvision import datasets\n",
        "from torchvision.transforms import ToTensor\n",
        "import matplotlib.pyplot as plt"
      ],
      "metadata": {
        "id": "zGCJqMJZgWcs"
      },
      "execution_count": 1,
      "outputs": []
    },
    {
      "cell_type": "code",
      "source": [
        "train_data = datasets.MNIST(root = 'data', train= True, transform = ToTensor(), download=True )\n",
        "test_data = datasets.MNIST(root = 'data', train= False, transform = ToTensor(), download=True )"
      ],
      "metadata": {
        "colab": {
          "base_uri": "https://localhost:8080/"
        },
        "id": "5LEWBlbygW37",
        "outputId": "70b47a19-6d0b-4b66-e5be-a442b9e057c9"
      },
      "execution_count": 2,
      "outputs": [
        {
          "output_type": "stream",
          "name": "stderr",
          "text": [
            "100%|██████████| 9.91M/9.91M [00:00<00:00, 52.3MB/s]\n",
            "100%|██████████| 28.9k/28.9k [00:00<00:00, 1.64MB/s]\n",
            "100%|██████████| 1.65M/1.65M [00:00<00:00, 14.5MB/s]\n",
            "100%|██████████| 4.54k/4.54k [00:00<00:00, 7.51MB/s]\n"
          ]
        }
      ]
    },
    {
      "cell_type": "code",
      "source": [
        "train_data"
      ],
      "metadata": {
        "colab": {
          "base_uri": "https://localhost:8080/"
        },
        "id": "PDFE6YIAgW6m",
        "outputId": "fd8d48ec-126a-4c2d-ee6d-5ff504ad91bc"
      },
      "execution_count": 3,
      "outputs": [
        {
          "output_type": "execute_result",
          "data": {
            "text/plain": [
              "Dataset MNIST\n",
              "    Number of datapoints: 60000\n",
              "    Root location: data\n",
              "    Split: Train\n",
              "    StandardTransform\n",
              "Transform: ToTensor()"
            ]
          },
          "metadata": {},
          "execution_count": 3
        }
      ]
    },
    {
      "cell_type": "code",
      "source": [
        "test_data"
      ],
      "metadata": {
        "colab": {
          "base_uri": "https://localhost:8080/"
        },
        "id": "hVprFRnJgW9I",
        "outputId": "6448b44b-380d-4286-f31a-cfbf2b935910"
      },
      "execution_count": 4,
      "outputs": [
        {
          "output_type": "execute_result",
          "data": {
            "text/plain": [
              "Dataset MNIST\n",
              "    Number of datapoints: 10000\n",
              "    Root location: data\n",
              "    Split: Test\n",
              "    StandardTransform\n",
              "Transform: ToTensor()"
            ]
          },
          "metadata": {},
          "execution_count": 4
        }
      ]
    },
    {
      "cell_type": "code",
      "source": [
        "train_data.data.shape"
      ],
      "metadata": {
        "colab": {
          "base_uri": "https://localhost:8080/"
        },
        "id": "Gpn29JCKgW_p",
        "outputId": "f9146938-5792-4644-a1a8-1ed22ba40e89"
      },
      "execution_count": 5,
      "outputs": [
        {
          "output_type": "execute_result",
          "data": {
            "text/plain": [
              "torch.Size([60000, 28, 28])"
            ]
          },
          "metadata": {},
          "execution_count": 5
        }
      ]
    },
    {
      "cell_type": "code",
      "source": [
        "test_data.data.size()"
      ],
      "metadata": {
        "colab": {
          "base_uri": "https://localhost:8080/"
        },
        "id": "z9JZYs_vgXCL",
        "outputId": "fee69ed0-3cc1-4be4-f1dd-dbac1eec3c7e"
      },
      "execution_count": 6,
      "outputs": [
        {
          "output_type": "execute_result",
          "data": {
            "text/plain": [
              "torch.Size([10000, 28, 28])"
            ]
          },
          "metadata": {},
          "execution_count": 6
        }
      ]
    },
    {
      "cell_type": "code",
      "source": [
        "train_data.targets.shape\n",
        "train_data.targets"
      ],
      "metadata": {
        "colab": {
          "base_uri": "https://localhost:8080/"
        },
        "id": "UyP7UhzWgXEz",
        "outputId": "d68eba45-3804-4840-86b9-34069e6c18e7"
      },
      "execution_count": 7,
      "outputs": [
        {
          "output_type": "execute_result",
          "data": {
            "text/plain": [
              "tensor([5, 0, 4,  ..., 5, 6, 8])"
            ]
          },
          "metadata": {},
          "execution_count": 7
        }
      ]
    },
    {
      "cell_type": "code",
      "source": [
        "from torch.utils.data import DataLoader\n",
        "loaders = {\n",
        "    'train': DataLoader(train_data, batch_size=100, shuffle=True, num_workers=1),\n",
        "    'test': DataLoader(test_data, batch_size=100, shuffle=True, num_workers=1),\n",
        "}"
      ],
      "metadata": {
        "id": "ZbvR0XJfgXHn"
      },
      "execution_count": 8,
      "outputs": []
    },
    {
      "cell_type": "code",
      "source": [
        "loaders"
      ],
      "metadata": {
        "colab": {
          "base_uri": "https://localhost:8080/"
        },
        "id": "qGuga8sqgZnJ",
        "outputId": "c7838b43-c8b4-4c03-aa11-d1ea80a887ec"
      },
      "execution_count": 9,
      "outputs": [
        {
          "output_type": "execute_result",
          "data": {
            "text/plain": [
              "{'train': <torch.utils.data.dataloader.DataLoader at 0x7a5d5850bc10>,\n",
              " 'test': <torch.utils.data.dataloader.DataLoader at 0x7a5d585f03d0>}"
            ]
          },
          "metadata": {},
          "execution_count": 9
        }
      ]
    },
    {
      "cell_type": "code",
      "source": [
        "import torch.nn as nn\n",
        "import torch.nn.functional as F\n",
        "import torch.optim as optim"
      ],
      "metadata": {
        "id": "QJiAW01rgZg2"
      },
      "execution_count": 10,
      "outputs": []
    },
    {
      "cell_type": "code",
      "source": [
        "class CNN(nn.Module):\n",
        "    def __init__(self):\n",
        "      super(CNN, self).__init__()\n",
        "\n",
        "      self.conv1 = nn.Conv2d(1,10, kernel_size=5)\n",
        "      self.conv2 = nn.Conv2d(10,20, kernel_size=5)\n",
        "      self.conv2_drop = nn.Dropout2d()\n",
        "      self.fc1 = nn.Linear(320,50)\n",
        "      self.fc2 = nn.Linear(50,10)\n",
        "\n",
        "    def  forward(self,x):\n",
        "      x = F.relu(F.max_pool2d(self.conv1(x),2))\n",
        "      x = F.relu(F.max_pool2d(self.conv2_drop(self.conv2(x)),2))\n",
        "      x = x.view(-1,320)\n",
        "      x = F.relu(self.fc1(x))\n",
        "      x = F.dropout(x,training = self.training)\n",
        "      x = self.fc2(x)\n",
        "\n",
        "      return F.softmax(x)"
      ],
      "metadata": {
        "id": "LwIKdwJIgZaC"
      },
      "execution_count": 11,
      "outputs": []
    },
    {
      "cell_type": "code",
      "source": [
        "import torch\n",
        "\n",
        "device = torch.device('cuda' if torch.cuda.is_available() else 'cpu')\n",
        "model = CNN().to(device)\n",
        "optimizer = optim.Adam(model.parameters(), lr= 0.001)\n",
        "loss_fn = nn.CrossEntropyLoss()\n",
        "\n",
        "def train(epoch):\n",
        "  model.train()\n",
        "  for batch_idx, (data, target) in enumerate(loaders['train']):\n",
        "    data, target = data.to(device), target.to(device)\n",
        "    optimizer.zero_grad()\n",
        "    output = model(data)\n",
        "    loss = loss_fn(output, target)\n",
        "    loss.backward()\n",
        "    optimizer.step()\n",
        "    if batch_idx % 20 == 0:\n",
        "        print(f'Train Epoch: {epoch} [{batch_idx *len(data)}/{len(loaders[\"train\"].dataset)} ({100. * batch_idx / len(loaders[\"train\"]):.0f}%)]\\t{loss.item():.6f}')"
      ],
      "metadata": {
        "id": "FZqV9FTHlsRG"
      },
      "execution_count": 15,
      "outputs": []
    },
    {
      "cell_type": "code",
      "source": [
        "def test():\n",
        "  model.eval()\n",
        "  test_loss = 0\n",
        "  correct = 0\n",
        "\n",
        "  with torch.no_grad():\n",
        "    for data , target in loaders['test']:\n",
        "        data, target = data.to(device), target.to(device)\n",
        "        output = model(data)\n",
        "        test_loss += loss_fn(output, target).item()\n",
        "        pred = output.argmax(dim=1, keepdim=True)\n",
        "        correct += pred.eq(target.view_as(pred)).sum().item()\n",
        "\n",
        "  test_loss /= len(loaders['test'].dataset)\n",
        "  print(f'\\n test set: Average loss: {test_loss:.4f}, Accuracy: {correct}/{len(loaders[\"test\"].dataset)} ({100. * correct / len(loaders[\"test\"].dataset):.0f}%)\\n')"
      ],
      "metadata": {
        "id": "aWusIm8wrVwa"
      },
      "execution_count": 23,
      "outputs": []
    },
    {
      "cell_type": "code",
      "source": [
        "for epoch in range(1,11):\n",
        "  train(epoch)\n",
        "  test()"
      ],
      "metadata": {
        "colab": {
          "base_uri": "https://localhost:8080/"
        },
        "id": "xHxPbWU6qAhE",
        "outputId": "9b10114a-abe8-4cc5-97db-58453b2cead4"
      },
      "execution_count": 24,
      "outputs": [
        {
          "output_type": "stream",
          "name": "stderr",
          "text": [
            "<ipython-input-11-53a5a06442bf>:19: UserWarning: Implicit dimension choice for softmax has been deprecated. Change the call to include dim=X as an argument.\n",
            "  return F.softmax(x)\n"
          ]
        },
        {
          "output_type": "stream",
          "name": "stdout",
          "text": [
            "Train Epoch: 1 [0/60000 (0%)]\t1.489221\n",
            "Train Epoch: 1 [2000/60000 (3%)]\t1.511416\n",
            "Train Epoch: 1 [4000/60000 (7%)]\t1.519009\n",
            "Train Epoch: 1 [6000/60000 (10%)]\t1.506425\n",
            "Train Epoch: 1 [8000/60000 (13%)]\t1.479335\n",
            "Train Epoch: 1 [10000/60000 (17%)]\t1.489176\n",
            "Train Epoch: 1 [12000/60000 (20%)]\t1.494645\n",
            "Train Epoch: 1 [14000/60000 (23%)]\t1.514227\n",
            "Train Epoch: 1 [16000/60000 (27%)]\t1.525004\n",
            "Train Epoch: 1 [18000/60000 (30%)]\t1.515884\n",
            "Train Epoch: 1 [20000/60000 (33%)]\t1.550733\n",
            "Train Epoch: 1 [22000/60000 (37%)]\t1.527429\n",
            "Train Epoch: 1 [24000/60000 (40%)]\t1.517345\n",
            "Train Epoch: 1 [26000/60000 (43%)]\t1.493687\n",
            "Train Epoch: 1 [28000/60000 (47%)]\t1.486153\n",
            "Train Epoch: 1 [30000/60000 (50%)]\t1.512138\n",
            "Train Epoch: 1 [32000/60000 (53%)]\t1.480635\n",
            "Train Epoch: 1 [34000/60000 (57%)]\t1.521042\n",
            "Train Epoch: 1 [36000/60000 (60%)]\t1.534825\n",
            "Train Epoch: 1 [38000/60000 (63%)]\t1.500724\n",
            "Train Epoch: 1 [40000/60000 (67%)]\t1.519271\n",
            "Train Epoch: 1 [42000/60000 (70%)]\t1.551141\n",
            "Train Epoch: 1 [44000/60000 (73%)]\t1.493695\n",
            "Train Epoch: 1 [46000/60000 (77%)]\t1.489701\n",
            "Train Epoch: 1 [48000/60000 (80%)]\t1.504194\n",
            "Train Epoch: 1 [50000/60000 (83%)]\t1.494609\n",
            "Train Epoch: 1 [52000/60000 (87%)]\t1.521102\n",
            "Train Epoch: 1 [54000/60000 (90%)]\t1.501072\n",
            "Train Epoch: 1 [56000/60000 (93%)]\t1.521138\n",
            "Train Epoch: 1 [58000/60000 (97%)]\t1.541798\n",
            "\n",
            " test set: Average loss: 0.0148, Accuracy: 9815/10000 (98%)\n",
            "\n",
            "Train Epoch: 2 [0/60000 (0%)]\t1.499504\n",
            "Train Epoch: 2 [2000/60000 (3%)]\t1.559647\n",
            "Train Epoch: 2 [4000/60000 (7%)]\t1.499547\n",
            "Train Epoch: 2 [6000/60000 (10%)]\t1.498268\n",
            "Train Epoch: 2 [8000/60000 (13%)]\t1.524665\n",
            "Train Epoch: 2 [10000/60000 (17%)]\t1.533359\n",
            "Train Epoch: 2 [12000/60000 (20%)]\t1.521104\n",
            "Train Epoch: 2 [14000/60000 (23%)]\t1.483768\n",
            "Train Epoch: 2 [16000/60000 (27%)]\t1.504769\n",
            "Train Epoch: 2 [18000/60000 (30%)]\t1.532794\n",
            "Train Epoch: 2 [20000/60000 (33%)]\t1.525483\n",
            "Train Epoch: 2 [22000/60000 (37%)]\t1.519534\n",
            "Train Epoch: 2 [24000/60000 (40%)]\t1.509205\n",
            "Train Epoch: 2 [26000/60000 (43%)]\t1.508943\n",
            "Train Epoch: 2 [28000/60000 (47%)]\t1.512777\n",
            "Train Epoch: 2 [30000/60000 (50%)]\t1.525011\n",
            "Train Epoch: 2 [32000/60000 (53%)]\t1.491165\n",
            "Train Epoch: 2 [34000/60000 (57%)]\t1.520775\n",
            "Train Epoch: 2 [36000/60000 (60%)]\t1.517269\n",
            "Train Epoch: 2 [38000/60000 (63%)]\t1.522231\n",
            "Train Epoch: 2 [40000/60000 (67%)]\t1.500529\n",
            "Train Epoch: 2 [42000/60000 (70%)]\t1.491258\n",
            "Train Epoch: 2 [44000/60000 (73%)]\t1.519989\n",
            "Train Epoch: 2 [46000/60000 (77%)]\t1.538194\n",
            "Train Epoch: 2 [48000/60000 (80%)]\t1.483339\n",
            "Train Epoch: 2 [50000/60000 (83%)]\t1.533957\n",
            "Train Epoch: 2 [52000/60000 (87%)]\t1.500530\n",
            "Train Epoch: 2 [54000/60000 (90%)]\t1.524768\n",
            "Train Epoch: 2 [56000/60000 (93%)]\t1.544423\n",
            "Train Epoch: 2 [58000/60000 (97%)]\t1.551058\n",
            "\n",
            " test set: Average loss: 0.0148, Accuracy: 9820/10000 (98%)\n",
            "\n",
            "Train Epoch: 3 [0/60000 (0%)]\t1.492611\n",
            "Train Epoch: 3 [2000/60000 (3%)]\t1.504811\n",
            "Train Epoch: 3 [4000/60000 (7%)]\t1.499756\n",
            "Train Epoch: 3 [6000/60000 (10%)]\t1.522213\n",
            "Train Epoch: 3 [8000/60000 (13%)]\t1.481536\n",
            "Train Epoch: 3 [10000/60000 (17%)]\t1.509411\n",
            "Train Epoch: 3 [12000/60000 (20%)]\t1.506450\n",
            "Train Epoch: 3 [14000/60000 (23%)]\t1.513005\n",
            "Train Epoch: 3 [16000/60000 (27%)]\t1.511636\n",
            "Train Epoch: 3 [18000/60000 (30%)]\t1.527843\n",
            "Train Epoch: 3 [20000/60000 (33%)]\t1.512341\n",
            "Train Epoch: 3 [22000/60000 (37%)]\t1.521438\n",
            "Train Epoch: 3 [24000/60000 (40%)]\t1.501503\n",
            "Train Epoch: 3 [26000/60000 (43%)]\t1.563230\n",
            "Train Epoch: 3 [28000/60000 (47%)]\t1.486371\n",
            "Train Epoch: 3 [30000/60000 (50%)]\t1.499852\n",
            "Train Epoch: 3 [32000/60000 (53%)]\t1.489528\n",
            "Train Epoch: 3 [34000/60000 (57%)]\t1.516922\n",
            "Train Epoch: 3 [36000/60000 (60%)]\t1.515291\n",
            "Train Epoch: 3 [38000/60000 (63%)]\t1.500680\n",
            "Train Epoch: 3 [40000/60000 (67%)]\t1.496025\n",
            "Train Epoch: 3 [42000/60000 (70%)]\t1.502875\n",
            "Train Epoch: 3 [44000/60000 (73%)]\t1.513667\n",
            "Train Epoch: 3 [46000/60000 (77%)]\t1.539141\n",
            "Train Epoch: 3 [48000/60000 (80%)]\t1.533640\n",
            "Train Epoch: 3 [50000/60000 (83%)]\t1.499980\n",
            "Train Epoch: 3 [52000/60000 (87%)]\t1.549919\n",
            "Train Epoch: 3 [54000/60000 (90%)]\t1.512124\n",
            "Train Epoch: 3 [56000/60000 (93%)]\t1.495466\n",
            "Train Epoch: 3 [58000/60000 (97%)]\t1.467719\n",
            "\n",
            " test set: Average loss: 0.0148, Accuracy: 9820/10000 (98%)\n",
            "\n",
            "Train Epoch: 4 [0/60000 (0%)]\t1.501833\n",
            "Train Epoch: 4 [2000/60000 (3%)]\t1.493319\n",
            "Train Epoch: 4 [4000/60000 (7%)]\t1.512707\n",
            "Train Epoch: 4 [6000/60000 (10%)]\t1.536885\n",
            "Train Epoch: 4 [8000/60000 (13%)]\t1.518762\n",
            "Train Epoch: 4 [10000/60000 (17%)]\t1.483257\n",
            "Train Epoch: 4 [12000/60000 (20%)]\t1.506412\n",
            "Train Epoch: 4 [14000/60000 (23%)]\t1.523057\n",
            "Train Epoch: 4 [16000/60000 (27%)]\t1.505392\n",
            "Train Epoch: 4 [18000/60000 (30%)]\t1.490843\n",
            "Train Epoch: 4 [20000/60000 (33%)]\t1.493325\n",
            "Train Epoch: 4 [22000/60000 (37%)]\t1.486592\n",
            "Train Epoch: 4 [24000/60000 (40%)]\t1.492448\n",
            "Train Epoch: 4 [26000/60000 (43%)]\t1.518995\n",
            "Train Epoch: 4 [28000/60000 (47%)]\t1.507162\n",
            "Train Epoch: 4 [30000/60000 (50%)]\t1.498375\n",
            "Train Epoch: 4 [32000/60000 (53%)]\t1.499813\n",
            "Train Epoch: 4 [34000/60000 (57%)]\t1.500226\n",
            "Train Epoch: 4 [36000/60000 (60%)]\t1.504688\n",
            "Train Epoch: 4 [38000/60000 (63%)]\t1.510936\n",
            "Train Epoch: 4 [40000/60000 (67%)]\t1.579789\n",
            "Train Epoch: 4 [42000/60000 (70%)]\t1.507956\n",
            "Train Epoch: 4 [44000/60000 (73%)]\t1.513875\n",
            "Train Epoch: 4 [46000/60000 (77%)]\t1.510563\n",
            "Train Epoch: 4 [48000/60000 (80%)]\t1.511753\n",
            "Train Epoch: 4 [50000/60000 (83%)]\t1.492318\n",
            "Train Epoch: 4 [52000/60000 (87%)]\t1.504332\n",
            "Train Epoch: 4 [54000/60000 (90%)]\t1.493800\n",
            "Train Epoch: 4 [56000/60000 (93%)]\t1.515789\n",
            "Train Epoch: 4 [58000/60000 (97%)]\t1.498292\n",
            "\n",
            " test set: Average loss: 0.0148, Accuracy: 9807/10000 (98%)\n",
            "\n",
            "Train Epoch: 5 [0/60000 (0%)]\t1.535493\n",
            "Train Epoch: 5 [2000/60000 (3%)]\t1.520908\n",
            "Train Epoch: 5 [4000/60000 (7%)]\t1.501213\n",
            "Train Epoch: 5 [6000/60000 (10%)]\t1.510522\n",
            "Train Epoch: 5 [8000/60000 (13%)]\t1.529709\n",
            "Train Epoch: 5 [10000/60000 (17%)]\t1.503047\n",
            "Train Epoch: 5 [12000/60000 (20%)]\t1.552751\n",
            "Train Epoch: 5 [14000/60000 (23%)]\t1.493836\n",
            "Train Epoch: 5 [16000/60000 (27%)]\t1.516564\n",
            "Train Epoch: 5 [18000/60000 (30%)]\t1.522574\n",
            "Train Epoch: 5 [20000/60000 (33%)]\t1.530215\n",
            "Train Epoch: 5 [22000/60000 (37%)]\t1.521152\n",
            "Train Epoch: 5 [24000/60000 (40%)]\t1.521544\n",
            "Train Epoch: 5 [26000/60000 (43%)]\t1.511939\n",
            "Train Epoch: 5 [28000/60000 (47%)]\t1.505618\n",
            "Train Epoch: 5 [30000/60000 (50%)]\t1.509284\n",
            "Train Epoch: 5 [32000/60000 (53%)]\t1.513844\n",
            "Train Epoch: 5 [34000/60000 (57%)]\t1.479208\n",
            "Train Epoch: 5 [36000/60000 (60%)]\t1.461839\n",
            "Train Epoch: 5 [38000/60000 (63%)]\t1.545448\n",
            "Train Epoch: 5 [40000/60000 (67%)]\t1.482903\n",
            "Train Epoch: 5 [42000/60000 (70%)]\t1.540129\n",
            "Train Epoch: 5 [44000/60000 (73%)]\t1.559159\n",
            "Train Epoch: 5 [46000/60000 (77%)]\t1.514244\n",
            "Train Epoch: 5 [48000/60000 (80%)]\t1.526087\n",
            "Train Epoch: 5 [50000/60000 (83%)]\t1.511820\n",
            "Train Epoch: 5 [52000/60000 (87%)]\t1.486792\n",
            "Train Epoch: 5 [54000/60000 (90%)]\t1.540106\n",
            "Train Epoch: 5 [56000/60000 (93%)]\t1.534927\n",
            "Train Epoch: 5 [58000/60000 (97%)]\t1.508208\n",
            "\n",
            " test set: Average loss: 0.0148, Accuracy: 9817/10000 (98%)\n",
            "\n",
            "Train Epoch: 6 [0/60000 (0%)]\t1.540469\n",
            "Train Epoch: 6 [2000/60000 (3%)]\t1.498642\n",
            "Train Epoch: 6 [4000/60000 (7%)]\t1.501168\n",
            "Train Epoch: 6 [6000/60000 (10%)]\t1.525087\n",
            "Train Epoch: 6 [8000/60000 (13%)]\t1.533205\n",
            "Train Epoch: 6 [10000/60000 (17%)]\t1.506750\n",
            "Train Epoch: 6 [12000/60000 (20%)]\t1.508597\n",
            "Train Epoch: 6 [14000/60000 (23%)]\t1.522458\n",
            "Train Epoch: 6 [16000/60000 (27%)]\t1.492219\n",
            "Train Epoch: 6 [18000/60000 (30%)]\t1.512158\n",
            "Train Epoch: 6 [20000/60000 (33%)]\t1.503988\n",
            "Train Epoch: 6 [22000/60000 (37%)]\t1.561601\n",
            "Train Epoch: 6 [24000/60000 (40%)]\t1.544588\n",
            "Train Epoch: 6 [26000/60000 (43%)]\t1.537551\n",
            "Train Epoch: 6 [28000/60000 (47%)]\t1.500646\n",
            "Train Epoch: 6 [30000/60000 (50%)]\t1.535983\n",
            "Train Epoch: 6 [32000/60000 (53%)]\t1.481617\n",
            "Train Epoch: 6 [34000/60000 (57%)]\t1.559261\n",
            "Train Epoch: 6 [36000/60000 (60%)]\t1.490622\n",
            "Train Epoch: 6 [38000/60000 (63%)]\t1.504663\n",
            "Train Epoch: 6 [40000/60000 (67%)]\t1.506831\n",
            "Train Epoch: 6 [42000/60000 (70%)]\t1.502638\n",
            "Train Epoch: 6 [44000/60000 (73%)]\t1.474578\n",
            "Train Epoch: 6 [46000/60000 (77%)]\t1.501957\n",
            "Train Epoch: 6 [48000/60000 (80%)]\t1.491701\n",
            "Train Epoch: 6 [50000/60000 (83%)]\t1.542214\n",
            "Train Epoch: 6 [52000/60000 (87%)]\t1.519786\n",
            "Train Epoch: 6 [54000/60000 (90%)]\t1.462569\n",
            "Train Epoch: 6 [56000/60000 (93%)]\t1.505873\n",
            "Train Epoch: 6 [58000/60000 (97%)]\t1.495658\n",
            "\n",
            " test set: Average loss: 0.0148, Accuracy: 9818/10000 (98%)\n",
            "\n",
            "Train Epoch: 7 [0/60000 (0%)]\t1.536305\n",
            "Train Epoch: 7 [2000/60000 (3%)]\t1.474413\n",
            "Train Epoch: 7 [4000/60000 (7%)]\t1.515353\n",
            "Train Epoch: 7 [6000/60000 (10%)]\t1.490275\n",
            "Train Epoch: 7 [8000/60000 (13%)]\t1.521257\n",
            "Train Epoch: 7 [10000/60000 (17%)]\t1.591329\n",
            "Train Epoch: 7 [12000/60000 (20%)]\t1.514677\n",
            "Train Epoch: 7 [14000/60000 (23%)]\t1.482012\n",
            "Train Epoch: 7 [16000/60000 (27%)]\t1.498897\n",
            "Train Epoch: 7 [18000/60000 (30%)]\t1.484645\n",
            "Train Epoch: 7 [20000/60000 (33%)]\t1.503271\n",
            "Train Epoch: 7 [22000/60000 (37%)]\t1.500264\n",
            "Train Epoch: 7 [24000/60000 (40%)]\t1.514167\n",
            "Train Epoch: 7 [26000/60000 (43%)]\t1.501142\n",
            "Train Epoch: 7 [28000/60000 (47%)]\t1.513141\n",
            "Train Epoch: 7 [30000/60000 (50%)]\t1.505304\n",
            "Train Epoch: 7 [32000/60000 (53%)]\t1.501552\n",
            "Train Epoch: 7 [34000/60000 (57%)]\t1.525507\n",
            "Train Epoch: 7 [36000/60000 (60%)]\t1.526370\n",
            "Train Epoch: 7 [38000/60000 (63%)]\t1.548326\n",
            "Train Epoch: 7 [40000/60000 (67%)]\t1.568426\n",
            "Train Epoch: 7 [42000/60000 (70%)]\t1.511215\n",
            "Train Epoch: 7 [44000/60000 (73%)]\t1.533649\n",
            "Train Epoch: 7 [46000/60000 (77%)]\t1.516388\n",
            "Train Epoch: 7 [48000/60000 (80%)]\t1.510745\n",
            "Train Epoch: 7 [50000/60000 (83%)]\t1.471145\n",
            "Train Epoch: 7 [52000/60000 (87%)]\t1.501007\n",
            "Train Epoch: 7 [54000/60000 (90%)]\t1.471217\n",
            "Train Epoch: 7 [56000/60000 (93%)]\t1.493575\n",
            "Train Epoch: 7 [58000/60000 (97%)]\t1.492912\n",
            "\n",
            " test set: Average loss: 0.0148, Accuracy: 9833/10000 (98%)\n",
            "\n",
            "Train Epoch: 8 [0/60000 (0%)]\t1.559200\n",
            "Train Epoch: 8 [2000/60000 (3%)]\t1.513635\n",
            "Train Epoch: 8 [4000/60000 (7%)]\t1.470396\n",
            "Train Epoch: 8 [6000/60000 (10%)]\t1.530827\n",
            "Train Epoch: 8 [8000/60000 (13%)]\t1.497291\n",
            "Train Epoch: 8 [10000/60000 (17%)]\t1.528386\n",
            "Train Epoch: 8 [12000/60000 (20%)]\t1.523003\n",
            "Train Epoch: 8 [14000/60000 (23%)]\t1.507316\n",
            "Train Epoch: 8 [16000/60000 (27%)]\t1.510841\n",
            "Train Epoch: 8 [18000/60000 (30%)]\t1.479082\n",
            "Train Epoch: 8 [20000/60000 (33%)]\t1.512343\n",
            "Train Epoch: 8 [22000/60000 (37%)]\t1.511179\n",
            "Train Epoch: 8 [24000/60000 (40%)]\t1.499455\n",
            "Train Epoch: 8 [26000/60000 (43%)]\t1.511551\n",
            "Train Epoch: 8 [28000/60000 (47%)]\t1.528790\n",
            "Train Epoch: 8 [30000/60000 (50%)]\t1.491148\n",
            "Train Epoch: 8 [32000/60000 (53%)]\t1.490353\n",
            "Train Epoch: 8 [34000/60000 (57%)]\t1.511716\n",
            "Train Epoch: 8 [36000/60000 (60%)]\t1.500820\n",
            "Train Epoch: 8 [38000/60000 (63%)]\t1.525193\n",
            "Train Epoch: 8 [40000/60000 (67%)]\t1.516273\n",
            "Train Epoch: 8 [42000/60000 (70%)]\t1.486664\n",
            "Train Epoch: 8 [44000/60000 (73%)]\t1.503915\n",
            "Train Epoch: 8 [46000/60000 (77%)]\t1.520854\n",
            "Train Epoch: 8 [48000/60000 (80%)]\t1.592405\n",
            "Train Epoch: 8 [50000/60000 (83%)]\t1.499353\n",
            "Train Epoch: 8 [52000/60000 (87%)]\t1.503461\n",
            "Train Epoch: 8 [54000/60000 (90%)]\t1.541910\n",
            "Train Epoch: 8 [56000/60000 (93%)]\t1.497809\n",
            "Train Epoch: 8 [58000/60000 (97%)]\t1.501077\n",
            "\n",
            " test set: Average loss: 0.0148, Accuracy: 9830/10000 (98%)\n",
            "\n",
            "Train Epoch: 9 [0/60000 (0%)]\t1.510901\n",
            "Train Epoch: 9 [2000/60000 (3%)]\t1.524011\n",
            "Train Epoch: 9 [4000/60000 (7%)]\t1.527814\n",
            "Train Epoch: 9 [6000/60000 (10%)]\t1.499591\n",
            "Train Epoch: 9 [8000/60000 (13%)]\t1.490596\n",
            "Train Epoch: 9 [10000/60000 (17%)]\t1.501154\n",
            "Train Epoch: 9 [12000/60000 (20%)]\t1.481373\n",
            "Train Epoch: 9 [14000/60000 (23%)]\t1.521818\n",
            "Train Epoch: 9 [16000/60000 (27%)]\t1.508988\n",
            "Train Epoch: 9 [18000/60000 (30%)]\t1.553344\n",
            "Train Epoch: 9 [20000/60000 (33%)]\t1.530656\n",
            "Train Epoch: 9 [22000/60000 (37%)]\t1.525751\n",
            "Train Epoch: 9 [24000/60000 (40%)]\t1.506673\n",
            "Train Epoch: 9 [26000/60000 (43%)]\t1.542267\n",
            "Train Epoch: 9 [28000/60000 (47%)]\t1.521976\n",
            "Train Epoch: 9 [30000/60000 (50%)]\t1.487249\n",
            "Train Epoch: 9 [32000/60000 (53%)]\t1.532550\n",
            "Train Epoch: 9 [34000/60000 (57%)]\t1.508627\n",
            "Train Epoch: 9 [36000/60000 (60%)]\t1.526038\n",
            "Train Epoch: 9 [38000/60000 (63%)]\t1.495695\n",
            "Train Epoch: 9 [40000/60000 (67%)]\t1.487099\n",
            "Train Epoch: 9 [42000/60000 (70%)]\t1.506872\n",
            "Train Epoch: 9 [44000/60000 (73%)]\t1.509377\n",
            "Train Epoch: 9 [46000/60000 (77%)]\t1.531180\n",
            "Train Epoch: 9 [48000/60000 (80%)]\t1.520841\n",
            "Train Epoch: 9 [50000/60000 (83%)]\t1.513898\n",
            "Train Epoch: 9 [52000/60000 (87%)]\t1.495728\n",
            "Train Epoch: 9 [54000/60000 (90%)]\t1.504253\n",
            "Train Epoch: 9 [56000/60000 (93%)]\t1.483849\n",
            "Train Epoch: 9 [58000/60000 (97%)]\t1.521883\n",
            "\n",
            " test set: Average loss: 0.0148, Accuracy: 9828/10000 (98%)\n",
            "\n",
            "Train Epoch: 10 [0/60000 (0%)]\t1.490017\n",
            "Train Epoch: 10 [2000/60000 (3%)]\t1.517204\n",
            "Train Epoch: 10 [4000/60000 (7%)]\t1.519541\n",
            "Train Epoch: 10 [6000/60000 (10%)]\t1.507863\n",
            "Train Epoch: 10 [8000/60000 (13%)]\t1.521378\n",
            "Train Epoch: 10 [10000/60000 (17%)]\t1.471129\n",
            "Train Epoch: 10 [12000/60000 (20%)]\t1.473671\n",
            "Train Epoch: 10 [14000/60000 (23%)]\t1.549317\n",
            "Train Epoch: 10 [16000/60000 (27%)]\t1.481550\n",
            "Train Epoch: 10 [18000/60000 (30%)]\t1.507135\n",
            "Train Epoch: 10 [20000/60000 (33%)]\t1.528299\n",
            "Train Epoch: 10 [22000/60000 (37%)]\t1.528607\n",
            "Train Epoch: 10 [24000/60000 (40%)]\t1.509901\n",
            "Train Epoch: 10 [26000/60000 (43%)]\t1.498459\n",
            "Train Epoch: 10 [28000/60000 (47%)]\t1.481151\n",
            "Train Epoch: 10 [30000/60000 (50%)]\t1.486920\n",
            "Train Epoch: 10 [32000/60000 (53%)]\t1.492013\n",
            "Train Epoch: 10 [34000/60000 (57%)]\t1.508456\n",
            "Train Epoch: 10 [36000/60000 (60%)]\t1.565583\n",
            "Train Epoch: 10 [38000/60000 (63%)]\t1.511132\n",
            "Train Epoch: 10 [40000/60000 (67%)]\t1.528649\n",
            "Train Epoch: 10 [42000/60000 (70%)]\t1.487496\n",
            "Train Epoch: 10 [44000/60000 (73%)]\t1.511975\n",
            "Train Epoch: 10 [46000/60000 (77%)]\t1.501524\n",
            "Train Epoch: 10 [48000/60000 (80%)]\t1.499351\n",
            "Train Epoch: 10 [50000/60000 (83%)]\t1.498349\n",
            "Train Epoch: 10 [52000/60000 (87%)]\t1.500733\n",
            "Train Epoch: 10 [54000/60000 (90%)]\t1.496546\n",
            "Train Epoch: 10 [56000/60000 (93%)]\t1.478170\n",
            "Train Epoch: 10 [58000/60000 (97%)]\t1.486820\n",
            "\n",
            " test set: Average loss: 0.0148, Accuracy: 9826/10000 (98%)\n",
            "\n"
          ]
        }
      ]
    },
    {
      "cell_type": "code",
      "source": [
        "import matplotlib.pyplot as plt\n",
        "model.eval()\n",
        "\n",
        "data, target = test_data[12]\n",
        "\n",
        "data = data.unsqueeze(0).to(device)\n",
        "\n",
        "output = model(data)\n",
        "\n",
        "pred = output.argmax(dim=1, keepdim=True).item()\n",
        "\n",
        "print(f'Prediction: {pred}')\n",
        "\n",
        "image = data.unsqueeze(0).cpu().numpy()\n",
        "\n",
        "plt.imshow(image.squeeze())\n",
        "plt.show()"
      ],
      "metadata": {
        "colab": {
          "base_uri": "https://localhost:8080/",
          "height": 482
        },
        "id": "T5HB_zaJsINK",
        "outputId": "a3eafa6c-31bb-4d3c-8a08-9dd16372f058"
      },
      "execution_count": 21,
      "outputs": [
        {
          "output_type": "stream",
          "name": "stdout",
          "text": [
            "Prediction: 9\n"
          ]
        },
        {
          "output_type": "stream",
          "name": "stderr",
          "text": [
            "<ipython-input-11-53a5a06442bf>:19: UserWarning: Implicit dimension choice for softmax has been deprecated. Change the call to include dim=X as an argument.\n",
            "  return F.softmax(x)\n"
          ]
        },
        {
          "output_type": "display_data",
          "data": {
            "text/plain": [
              "<Figure size 640x480 with 1 Axes>"
            ],
            "image/png": "[encoded data removed]"
          },
          "metadata": {}
        }
      ]
    },
    {
      "cell_type": "code",
      "source": [],
      "metadata": {
        "id": "5OX4fAdptS-H"
      },
      "execution_count": null,
      "outputs": []
    }
  ]
}